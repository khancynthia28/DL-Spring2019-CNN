{
  "nbformat": 4,
  "nbformat_minor": 0,
  "metadata": {
    "colab": {
      "name": "Simple_CNN.ipynb",
      "version": "0.3.2",
      "provenance": [],
      "collapsed_sections": [],
      "include_colab_link": true
    },
    "kernelspec": {
      "name": "python3",
      "display_name": "Python 3"
    },
    "accelerator": "GPU"
  },
  "cells": [
    {
      "cell_type": "markdown",
      "metadata": {
        "id": "view-in-github",
        "colab_type": "text"
      },
      "source": [
        "<a href=\"https://colab.research.google.com/github/khancynthia28/DL-Spring2019-CNN/blob/master/Simple_CNN.ipynb\" target=\"_parent\"><img src=\"https://colab.research.google.com/assets/colab-badge.svg\" alt=\"Open In Colab\"/></a>"
      ]
    },
    {
      "cell_type": "markdown",
      "metadata": {
        "id": "Ee5iuxsh0wlZ",
        "colab_type": "text"
      },
      "source": [
        "# Simple CNN Architecture demo\n",
        "Testing Keras' CNNs on CIFAR10 with a pretty typical layer disposition."
      ]
    },
    {
      "cell_type": "markdown",
      "metadata": {
        "id": "_0iZwcOO0s75",
        "colab_type": "text"
      },
      "source": [
        "## Data Setup"
      ]
    },
    {
      "cell_type": "code",
      "metadata": {
        "id": "24mgFn4gLrYl",
        "colab_type": "code",
        "outputId": "cbc41962-9ab8-4b83-fa74-bc5de6053543",
        "colab": {
          "base_uri": "https://localhost:8080/",
          "height": 34
        }
      },
      "source": [
        "from keras.datasets import cifar10"
      ],
      "execution_count": 0,
      "outputs": [
        {
          "output_type": "stream",
          "text": [
            "Using TensorFlow backend.\n"
          ],
          "name": "stderr"
        }
      ]
    },
    {
      "cell_type": "code",
      "metadata": {
        "id": "7fy6Ncisq1q_",
        "colab_type": "code",
        "outputId": "346c779d-83e6-4c48-9394-8d25a798092e",
        "colab": {
          "base_uri": "https://localhost:8080/",
          "height": 51
        }
      },
      "source": [
        "(x_train, y_train_), (x_test, y_test_) = cifar10.load_data()"
      ],
      "execution_count": 0,
      "outputs": [
        {
          "output_type": "stream",
          "text": [
            "Downloading data from https://www.cs.toronto.edu/~kriz/cifar-10-python.tar.gz\n",
            "170500096/170498071 [==============================] - 106s 1us/step\n"
          ],
          "name": "stdout"
        }
      ]
    },
    {
      "cell_type": "code",
      "metadata": {
        "id": "Rok3es7FTZz9",
        "colab_type": "code",
        "colab": {}
      },
      "source": [
        "x_train = x_train.astype('float32') / 255\n",
        "x_test = x_test.astype('float32') / 255"
      ],
      "execution_count": 0,
      "outputs": []
    },
    {
      "cell_type": "code",
      "metadata": {
        "id": "-8GIUxRcq_Yc",
        "colab_type": "code",
        "colab": {}
      },
      "source": [
        "from keras.utils import to_categorical\n",
        "y_train = to_categorical(y_train_)\n",
        "y_test = to_categorical(y_test_)"
      ],
      "execution_count": 0,
      "outputs": []
    },
    {
      "cell_type": "markdown",
      "metadata": {
        "id": "HB4tl71n5NRo",
        "colab_type": "text"
      },
      "source": [
        "## Model Definition"
      ]
    },
    {
      "cell_type": "code",
      "metadata": {
        "id": "OGrAd2LbriPX",
        "colab_type": "code",
        "colab": {}
      },
      "source": [
        "from keras.models import Sequential\n",
        "model = Sequential()"
      ],
      "execution_count": 0,
      "outputs": []
    },
    {
      "cell_type": "code",
      "metadata": {
        "id": "J4pdQYierpzz",
        "colab_type": "code",
        "colab": {}
      },
      "source": [
        "from keras.layers import Conv2D, MaxPool2D, Flatten, Dense"
      ],
      "execution_count": 0,
      "outputs": []
    },
    {
      "cell_type": "code",
      "metadata": {
        "id": "CkduO2Qwrxpq",
        "colab_type": "code",
        "outputId": "a3b3d438-d0ef-4e0d-f4f6-4146a12f8877",
        "colab": {
          "base_uri": "https://localhost:8080/",
          "height": 88
        }
      },
      "source": [
        "model.add(Conv2D(filters=32, \n",
        "                kernel_size=(3, 3),\n",
        "                activation='relu',\n",
        "                input_shape=(32, 32, 3)))"
      ],
      "execution_count": 0,
      "outputs": [
        {
          "output_type": "stream",
          "text": [
            "WARNING:tensorflow:From /usr/local/lib/python3.6/dist-packages/tensorflow/python/framework/op_def_library.py:263: colocate_with (from tensorflow.python.framework.ops) is deprecated and will be removed in a future version.\n",
            "Instructions for updating:\n",
            "Colocations handled automatically by placer.\n"
          ],
          "name": "stdout"
        }
      ]
    },
    {
      "cell_type": "code",
      "metadata": {
        "id": "C0QJU8DqsR0i",
        "colab_type": "code",
        "colab": {}
      },
      "source": [
        "model.add(MaxPool2D())"
      ],
      "execution_count": 0,
      "outputs": []
    },
    {
      "cell_type": "code",
      "metadata": {
        "id": "STmwgb-asj4Q",
        "colab_type": "code",
        "colab": {}
      },
      "source": [
        "model.add(Conv2D(filters=64,\n",
        "                kernel_size=(3, 3),\n",
        "                activation='relu'))\n",
        "model.add(MaxPool2D())"
      ],
      "execution_count": 0,
      "outputs": []
    },
    {
      "cell_type": "code",
      "metadata": {
        "id": "6Wshm4jttByn",
        "colab_type": "code",
        "colab": {}
      },
      "source": [
        "model.add(Flatten())\n",
        "model.add(Dense(10, activation='softmax'))"
      ],
      "execution_count": 0,
      "outputs": []
    },
    {
      "cell_type": "code",
      "metadata": {
        "id": "30lPhgq2tSGh",
        "colab_type": "code",
        "colab": {}
      },
      "source": [
        "model.compile(optimizer='adam',\n",
        "             loss='categorical_crossentropy',\n",
        "             metrics=['accuracy'])"
      ],
      "execution_count": 0,
      "outputs": []
    },
    {
      "cell_type": "code",
      "metadata": {
        "id": "ENUF_8Z_2PWS",
        "colab_type": "code",
        "outputId": "22b5b253-796d-40f5-e14f-e0a4c84500d4",
        "colab": {
          "base_uri": "https://localhost:8080/",
          "height": 357
        }
      },
      "source": [
        "print(model.summary())"
      ],
      "execution_count": 0,
      "outputs": [
        {
          "output_type": "stream",
          "text": [
            "_________________________________________________________________\n",
            "Layer (type)                 Output Shape              Param #   \n",
            "=================================================================\n",
            "conv2d_1 (Conv2D)            (None, 30, 30, 32)        896       \n",
            "_________________________________________________________________\n",
            "max_pooling2d_1 (MaxPooling2 (None, 15, 15, 32)        0         \n",
            "_________________________________________________________________\n",
            "conv2d_2 (Conv2D)            (None, 13, 13, 64)        18496     \n",
            "_________________________________________________________________\n",
            "max_pooling2d_2 (MaxPooling2 (None, 6, 6, 64)          0         \n",
            "_________________________________________________________________\n",
            "flatten_1 (Flatten)          (None, 2304)              0         \n",
            "_________________________________________________________________\n",
            "dense_1 (Dense)              (None, 10)                23050     \n",
            "=================================================================\n",
            "Total params: 42,442\n",
            "Trainable params: 42,442\n",
            "Non-trainable params: 0\n",
            "_________________________________________________________________\n",
            "None\n"
          ],
          "name": "stdout"
        }
      ]
    },
    {
      "cell_type": "markdown",
      "metadata": {
        "id": "6xnTf9mfyxqh",
        "colab_type": "text"
      },
      "source": [
        "## Fitting"
      ]
    },
    {
      "cell_type": "code",
      "metadata": {
        "id": "POFObjd0td4x",
        "colab_type": "code",
        "outputId": "ec7119e2-b2da-4466-da3f-1116a37ef421",
        "colab": {
          "base_uri": "https://localhost:8080/",
          "height": 1805
        }
      },
      "source": [
        "history = model.fit(x_train, y_train, batch_size=50, epochs=50, verbose=1, validation_data=(x_test, y_test))"
      ],
      "execution_count": 0,
      "outputs": [
        {
          "output_type": "stream",
          "text": [
            "WARNING:tensorflow:From /usr/local/lib/python3.6/dist-packages/tensorflow/python/ops/math_ops.py:3066: to_int32 (from tensorflow.python.ops.math_ops) is deprecated and will be removed in a future version.\n",
            "Instructions for updating:\n",
            "Use tf.cast instead.\n",
            "Train on 50000 samples, validate on 10000 samples\n",
            "Epoch 1/50\n",
            "50000/50000 [==============================] - 10s 204us/step - loss: 1.5205 - acc: 0.4585 - val_loss: 1.2737 - val_acc: 0.5520\n",
            "Epoch 2/50\n",
            "50000/50000 [==============================] - 5s 105us/step - loss: 1.1859 - acc: 0.5864 - val_loss: 1.1072 - val_acc: 0.6191\n",
            "Epoch 3/50\n",
            "50000/50000 [==============================] - 5s 104us/step - loss: 1.0471 - acc: 0.6368 - val_loss: 1.0228 - val_acc: 0.6462\n",
            "Epoch 4/50\n",
            "50000/50000 [==============================] - 6s 111us/step - loss: 0.9641 - acc: 0.6694 - val_loss: 0.9876 - val_acc: 0.6618\n",
            "Epoch 5/50\n",
            "50000/50000 [==============================] - 6s 115us/step - loss: 0.9094 - acc: 0.6884 - val_loss: 0.9965 - val_acc: 0.6571\n",
            "Epoch 6/50\n",
            "50000/50000 [==============================] - 5s 105us/step - loss: 0.8621 - acc: 0.7047 - val_loss: 0.9512 - val_acc: 0.6745\n",
            "Epoch 7/50\n",
            "50000/50000 [==============================] - 5s 103us/step - loss: 0.8254 - acc: 0.7192 - val_loss: 0.9269 - val_acc: 0.6854\n",
            "Epoch 8/50\n",
            "50000/50000 [==============================] - 5s 102us/step - loss: 0.7935 - acc: 0.7287 - val_loss: 0.8865 - val_acc: 0.6993\n",
            "Epoch 9/50\n",
            "50000/50000 [==============================] - 5s 103us/step - loss: 0.7679 - acc: 0.7362 - val_loss: 0.9068 - val_acc: 0.6947\n",
            "Epoch 10/50\n",
            "50000/50000 [==============================] - 5s 103us/step - loss: 0.7384 - acc: 0.7470 - val_loss: 0.8879 - val_acc: 0.7007\n",
            "Epoch 11/50\n",
            "50000/50000 [==============================] - 5s 104us/step - loss: 0.7174 - acc: 0.7535 - val_loss: 0.9834 - val_acc: 0.6777\n",
            "Epoch 12/50\n",
            "50000/50000 [==============================] - 5s 103us/step - loss: 0.6960 - acc: 0.7601 - val_loss: 0.8990 - val_acc: 0.6995\n",
            "Epoch 13/50\n",
            "50000/50000 [==============================] - 5s 102us/step - loss: 0.6792 - acc: 0.7674 - val_loss: 0.9246 - val_acc: 0.6926\n",
            "Epoch 14/50\n",
            "50000/50000 [==============================] - 5s 102us/step - loss: 0.6616 - acc: 0.7740 - val_loss: 0.8886 - val_acc: 0.7040\n",
            "Epoch 15/50\n",
            "50000/50000 [==============================] - 5s 102us/step - loss: 0.6450 - acc: 0.7783 - val_loss: 0.9270 - val_acc: 0.6928\n",
            "Epoch 16/50\n",
            "50000/50000 [==============================] - 5s 102us/step - loss: 0.6324 - acc: 0.7810 - val_loss: 0.8998 - val_acc: 0.7048\n",
            "Epoch 17/50\n",
            "50000/50000 [==============================] - 5s 103us/step - loss: 0.6140 - acc: 0.7886 - val_loss: 0.9188 - val_acc: 0.6977\n",
            "Epoch 18/50\n",
            "50000/50000 [==============================] - 5s 102us/step - loss: 0.6051 - acc: 0.7912 - val_loss: 0.9447 - val_acc: 0.6908\n",
            "Epoch 19/50\n",
            "50000/50000 [==============================] - 5s 105us/step - loss: 0.5880 - acc: 0.7965 - val_loss: 0.9410 - val_acc: 0.6956\n",
            "Epoch 20/50\n",
            "50000/50000 [==============================] - 6s 115us/step - loss: 0.5822 - acc: 0.7989 - val_loss: 0.9279 - val_acc: 0.7013\n",
            "Epoch 21/50\n",
            "50000/50000 [==============================] - 5s 107us/step - loss: 0.5719 - acc: 0.8032 - val_loss: 0.9526 - val_acc: 0.6975\n",
            "Epoch 22/50\n",
            "50000/50000 [==============================] - 5s 102us/step - loss: 0.5573 - acc: 0.8064 - val_loss: 0.9625 - val_acc: 0.6983\n",
            "Epoch 23/50\n",
            "50000/50000 [==============================] - 5s 103us/step - loss: 0.5464 - acc: 0.8106 - val_loss: 0.9644 - val_acc: 0.6985\n",
            "Epoch 24/50\n",
            "50000/50000 [==============================] - 5s 102us/step - loss: 0.5373 - acc: 0.8141 - val_loss: 0.9704 - val_acc: 0.6996\n",
            "Epoch 25/50\n",
            "50000/50000 [==============================] - 5s 103us/step - loss: 0.5261 - acc: 0.8171 - val_loss: 0.9686 - val_acc: 0.7043\n",
            "Epoch 26/50\n",
            "50000/50000 [==============================] - 5s 102us/step - loss: 0.5175 - acc: 0.8205 - val_loss: 1.0234 - val_acc: 0.6874\n",
            "Epoch 27/50\n",
            "50000/50000 [==============================] - 5s 102us/step - loss: 0.5126 - acc: 0.8221 - val_loss: 0.9729 - val_acc: 0.7063\n",
            "Epoch 28/50\n",
            "50000/50000 [==============================] - 5s 103us/step - loss: 0.4950 - acc: 0.8295 - val_loss: 0.9932 - val_acc: 0.6926\n",
            "Epoch 29/50\n",
            "50000/50000 [==============================] - 5s 102us/step - loss: 0.4928 - acc: 0.8291 - val_loss: 0.9991 - val_acc: 0.6963\n",
            "Epoch 30/50\n",
            "50000/50000 [==============================] - 5s 102us/step - loss: 0.4817 - acc: 0.8340 - val_loss: 1.0466 - val_acc: 0.6880\n",
            "Epoch 31/50\n",
            "50000/50000 [==============================] - 5s 102us/step - loss: 0.4772 - acc: 0.8323 - val_loss: 1.0023 - val_acc: 0.6993\n",
            "Epoch 32/50\n",
            "50000/50000 [==============================] - 5s 103us/step - loss: 0.4684 - acc: 0.8365 - val_loss: 1.0400 - val_acc: 0.6983\n",
            "Epoch 33/50\n",
            "50000/50000 [==============================] - 5s 102us/step - loss: 0.4634 - acc: 0.8385 - val_loss: 1.0537 - val_acc: 0.6940\n",
            "Epoch 34/50\n",
            "50000/50000 [==============================] - 5s 102us/step - loss: 0.4508 - acc: 0.8417 - val_loss: 1.0757 - val_acc: 0.6890\n",
            "Epoch 35/50\n",
            "50000/50000 [==============================] - 6s 114us/step - loss: 0.4489 - acc: 0.8424 - val_loss: 1.0499 - val_acc: 0.6959\n",
            "Epoch 36/50\n",
            "50000/50000 [==============================] - 6s 119us/step - loss: 0.4417 - acc: 0.8457 - val_loss: 1.1156 - val_acc: 0.6877\n",
            "Epoch 37/50\n",
            "50000/50000 [==============================] - 5s 109us/step - loss: 0.4354 - acc: 0.8471 - val_loss: 1.0967 - val_acc: 0.6961\n",
            "Epoch 38/50\n",
            "50000/50000 [==============================] - 6s 112us/step - loss: 0.4239 - acc: 0.8523 - val_loss: 1.1178 - val_acc: 0.6851\n",
            "Epoch 39/50\n",
            "50000/50000 [==============================] - 5s 102us/step - loss: 0.4212 - acc: 0.8513 - val_loss: 1.1292 - val_acc: 0.6919\n",
            "Epoch 40/50\n",
            "50000/50000 [==============================] - 5s 103us/step - loss: 0.4144 - acc: 0.8517 - val_loss: 1.1302 - val_acc: 0.6948\n",
            "Epoch 41/50\n",
            "50000/50000 [==============================] - 5s 102us/step - loss: 0.4063 - acc: 0.8574 - val_loss: 1.1380 - val_acc: 0.6903\n",
            "Epoch 42/50\n",
            "50000/50000 [==============================] - 5s 103us/step - loss: 0.4019 - acc: 0.8602 - val_loss: 1.1719 - val_acc: 0.6873\n",
            "Epoch 43/50\n",
            "50000/50000 [==============================] - 5s 103us/step - loss: 0.3966 - acc: 0.8602 - val_loss: 1.1526 - val_acc: 0.6943\n",
            "Epoch 44/50\n",
            "50000/50000 [==============================] - 5s 102us/step - loss: 0.3925 - acc: 0.8614 - val_loss: 1.2060 - val_acc: 0.6865\n",
            "Epoch 45/50\n",
            "50000/50000 [==============================] - 5s 102us/step - loss: 0.3846 - acc: 0.8650 - val_loss: 1.2213 - val_acc: 0.6818\n",
            "Epoch 46/50\n",
            "50000/50000 [==============================] - 5s 102us/step - loss: 0.3832 - acc: 0.8646 - val_loss: 1.2081 - val_acc: 0.6903\n",
            "Epoch 47/50\n",
            "50000/50000 [==============================] - 5s 102us/step - loss: 0.3729 - acc: 0.8674 - val_loss: 1.2031 - val_acc: 0.6900\n",
            "Epoch 48/50\n",
            "50000/50000 [==============================] - 5s 103us/step - loss: 0.3666 - acc: 0.8695 - val_loss: 1.2478 - val_acc: 0.6915\n",
            "Epoch 49/50\n",
            "50000/50000 [==============================] - 5s 102us/step - loss: 0.3609 - acc: 0.8716 - val_loss: 1.2440 - val_acc: 0.6871\n",
            "Epoch 50/50\n",
            "50000/50000 [==============================] - 5s 108us/step - loss: 0.3582 - acc: 0.8724 - val_loss: 1.2394 - val_acc: 0.6888\n"
          ],
          "name": "stdout"
        }
      ]
    },
    {
      "cell_type": "code",
      "metadata": {
        "id": "D6esbeHWT70i",
        "colab_type": "code",
        "outputId": "89e795c0-22fd-4da6-e4b7-443a56def655",
        "colab": {
          "base_uri": "https://localhost:8080/",
          "height": 295
        }
      },
      "source": [
        "import matplotlib.pyplot as plt\n",
        "\n",
        "history_dict = history.history\n",
        "loss_values = history_dict['loss']\n",
        "val_loss_values = history_dict['val_loss']\n",
        "\n",
        "epochs = range(1, len(history_dict['acc']) + 1)\n",
        "\n",
        "plt.plot(epochs, loss_values, 'bo', label='Training loss')\n",
        "plt.plot(epochs, val_loss_values, 'b', label='Validation loss')\n",
        "plt.title('Training and validation loss')\n",
        "plt.xlabel('Epochs')\n",
        "plt.ylabel('Loss')\n",
        "plt.legend()\n",
        "\n",
        "plt.show()"
      ],
      "execution_count": 0,
      "outputs": [
        {
          "output_type": "display_data",
          "data": {
            "image/png": "[encoded data removed]",
            "text/plain": [
              "<Figure size 432x288 with 1 Axes>"
            ]
          },
          "metadata": {
            "tags": []
          }
        }
      ]
    }
  ]
}